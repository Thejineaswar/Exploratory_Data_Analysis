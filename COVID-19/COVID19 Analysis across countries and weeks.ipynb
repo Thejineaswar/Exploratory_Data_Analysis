{
 "cells": [
  {
   "cell_type": "markdown",
   "metadata": {},
   "source": [
    "# COVID-19 Analysis across  countries and weeks"
   ]
  },
  {
   "cell_type": "markdown",
   "metadata": {},
   "source": [
    "In this study, the focus is on the country cases. This analysis examines at the case growth, case proportion and weekly growth."
   ]
  },
  {
   "cell_type": "markdown",
   "metadata": {},
   "source": [
    "# This kerenel will be updated frequently to keep it up to date"
   ]
  },
  {
   "cell_type": "markdown",
   "metadata": {},
   "source": [
    "# Library and dataset imports"
   ]
  },
  {
   "cell_type": "code",
   "execution_count": null,
   "metadata": {
    "_kg_hide-input": true
   },
   "outputs": [],
   "source": [
    "#Importing the libraries\n",
    "import pandas as pd\n",
    "import numpy as np\n",
    "\n",
    "import matplotlib.pyplot as plt\n",
    "import plotly.express as px\n",
    "from plotly.subplots import make_subplots\n",
    "import plotly.graph_objects as go"
   ]
  },
  {
   "cell_type": "markdown",
   "metadata": {},
   "source": [
    "The data used for this study is taken from the Johns Hopkins CSSE data repository. The following files were used for the analysis:\n",
    "1. time_series_covid19_confirmed_global.csv-> https://rb.gy/uktxf3\n",
    "2. time_series_covid19_deaths_global.csv   -> https://rb.gy/qnjgsj\n",
    "3. time_series_covid19_recovered_global.csv-> https://rb.gy/dxfjfl"
   ]
  },
  {
   "cell_type": "code",
   "execution_count": null,
   "metadata": {
    "_kg_hide-input": true
   },
   "outputs": [],
   "source": [
    "#Importing the datasets\n",
    "url='https://raw.githubusercontent.com/CSSEGISandData/COVID-19/master/csse_covid_19_data/csse_covid_19_time_series/time_series_covid19_confirmed_global.csv'\n",
    "confirmed=pd.read_csv(url,error_bad_lines=False)\n",
    "death=pd.read_csv('https://raw.githubusercontent.com/CSSEGISandData/COVID-19/master/csse_covid_19_data/csse_covid_19_time_series/time_series_covid19_deaths_global.csv',\n",
    "                 error_bad_lines=False)\n",
    "recovered=pd.read_csv('https://raw.githubusercontent.com/CSSEGISandData/COVID-19/master/csse_covid_19_data/csse_covid_19_time_series/time_series_covid19_recovered_global.csv',\n",
    "                 error_bad_lines=False)\n"
   ]
  },
  {
   "cell_type": "markdown",
   "metadata": {},
   "source": [
    "# Case proportions of countries"
   ]
  },
  {
   "cell_type": "markdown",
   "metadata": {},
   "source": [
    "The function country_with_cases will return a dataframe with just the country name and the number of cases. This function also adds up all the province value into one to make the overall data just in terms of the Country/Region. The main reason this is done is because the Province/State contains a lot of null values"
   ]
  },
  {
   "cell_type": "code",
   "execution_count": null,
   "metadata": {
    "_kg_hide-input": true
   },
   "outputs": [],
   "source": [
    "def country_with_cases(dataset):\n",
    "    is_province=dataset.loc[dataset['Province/State'].isna()==False]\n",
    "    is_province=is_province['Country/Region'].unique()\n",
    "    df=dataset.copy()\n",
    "    Country=df['Country/Region'].values\n",
    "    temp=df.drop(columns=['Province/State','Country/Region','Lat','Long'])\n",
    "    values=temp.values\n",
    "    cases=[]\n",
    "    for i in range(0,len(values)):\n",
    "        cases.append(values[i][values.shape[1]-1])\n",
    "    new_df=pd.concat([pd.DataFrame(Country),pd.DataFrame(cases)],axis=1)\n",
    "    new_df.columns=['Country','Cases']\n",
    "    index=[]\n",
    "    is_province_sums=[]\n",
    "    for i in is_province:\n",
    "        temp=new_df.loc[new_df['Country']==i]\n",
    "        index.append(temp.index)\n",
    "        s=np.sum(temp['Cases'])\n",
    "        is_province_sums.append(s)\n",
    "    for i in index:\n",
    "        new_df.drop(i,axis=0,inplace=True)\n",
    "    countries_with_province=pd.concat([pd.DataFrame(is_province),pd.DataFrame(is_province_sums)],axis=1)\n",
    "    countries_with_province.columns=['Country','Cases']\n",
    "    All_country_cases=pd.concat([new_df,countries_with_province],axis=0)\n",
    "    All_country_cases.reset_index(inplace=True)\n",
    "    return All_country_cases"
   ]
  },
  {
   "cell_type": "code",
   "execution_count": null,
   "metadata": {
    "_kg_hide-input": true
   },
   "outputs": [],
   "source": [
    "confirmed_tree=country_with_cases(confirmed)"
   ]
  },
  {
   "cell_type": "code",
   "execution_count": null,
   "metadata": {
    "_kg_hide-input": true
   },
   "outputs": [],
   "source": [
    "def tree_map(df,color_scale,title):\n",
    "    #The df is the one which only has country and cases\n",
    "    fig = px.treemap(df,path=['Country'], values='Cases',color='Cases',\n",
    "                     color_continuous_scale=color_scale,\n",
    "                     title=title)\n",
    "    fig.show()"
   ]
  },
  {
   "cell_type": "code",
   "execution_count": null,
   "metadata": {
    "_kg_hide-input": true
   },
   "outputs": [],
   "source": [
    "tree_map(confirmed_tree,'amp','Confirmed cases across countries')"
   ]
  },
  {
   "cell_type": "code",
   "execution_count": null,
   "metadata": {
    "_kg_hide-input": true
   },
   "outputs": [],
   "source": [
    "recovered_tree=country_with_cases(recovered)\n",
    "tree_map(recovered_tree,'Greens','Recovery across countries')"
   ]
  },
  {
   "cell_type": "code",
   "execution_count": null,
   "metadata": {
    "_kg_hide-input": true
   },
   "outputs": [],
   "source": [
    "death_tree=country_with_cases(death)\n",
    "tree_map(death_tree,'Reds','Deaths across countries')"
   ]
  },
  {
   "cell_type": "markdown",
   "metadata": {},
   "source": [
    "# Visualising the Country growth "
   ]
  },
  {
   "cell_type": "code",
   "execution_count": null,
   "metadata": {
    "_kg_hide-input": true
   },
   "outputs": [],
   "source": [
    "def top_10(df):# This function will only work \n",
    "    df_descending=df.sort_values(by='Cases', ascending=False)\n",
    "    df_descending=df_descending.reset_index()\n",
    "    top=df_descending.iloc[:10 :]\n",
    "    return top['Country'].values"
   ]
  },
  {
   "cell_type": "markdown",
   "metadata": {},
   "source": [
    "The rate function converts the structire of the dataframe in general. In the dataset the dates are the column making it not so convenient for visualising the data. This function transforms all the dates into one column and this makes plotting very much easier"
   ]
  },
  {
   "cell_type": "code",
   "execution_count": null,
   "metadata": {
    "_kg_hide-input": true
   },
   "outputs": [],
   "source": [
    "def rate(df):   \n",
    "    is_province=df.loc[confirmed['Province/State'].isna()==False]\n",
    "    is_province=is_province['Country/Region'].unique()\n",
    "    copy=df.copy()\n",
    "    final=[]\n",
    "    index=[]\n",
    "    for i in is_province:    \n",
    "        temp=copy.loc[copy['Country/Region']==i]\n",
    "        index=copy.loc[copy['Country/Region']==i].index\n",
    "        temp=temp.sum(axis=0)\n",
    "        final.append(temp)\n",
    "        copy.drop(index,inplace=True)\n",
    "    new_df=pd.DataFrame(final)\n",
    "    new_df['Country/Region']=is_province\n",
    "    total=pd.concat([copy,new_df],axis=0)\n",
    "    total.reset_index(inplace=True)\n",
    "    total.drop(columns=['Province/State'],inplace=True)\n",
    "    t=pd.melt(total,id_vars=['Country/Region','index','Lat','Long'],var_name=\"Date\", value_name=\"Value\")\n",
    "    return t"
   ]
  },
  {
   "cell_type": "code",
   "execution_count": null,
   "metadata": {
    "_kg_hide-input": true
   },
   "outputs": [],
   "source": [
    "c=rate(confirmed)\n",
    "fig = px.line(c, x=\"Date\", y=\"Value\", color=\"Country/Region\",\n",
    "              title='Confirmed cases across countries')\n",
    "fig.update_layout(showlegend=False)\n",
    "fig.show()"
   ]
  },
  {
   "cell_type": "code",
   "execution_count": null,
   "metadata": {
    "_kg_hide-input": true
   },
   "outputs": [],
   "source": [
    "r=rate(recovered)\n",
    "fig = px.line(r, x=\"Date\", y=\"Value\", color=\"Country/Region\",\n",
    "              title='Confirmed cases across countries')\n",
    "fig.update_layout(showlegend=False)\n",
    "\n",
    "fig.show()"
   ]
  },
  {
   "cell_type": "code",
   "execution_count": null,
   "metadata": {
    "_kg_hide-input": true
   },
   "outputs": [],
   "source": [
    "d=rate(death)\n",
    "fig = px.line(d, x=\"Date\", y=\"Value\", color=\"Country/Region\",\n",
    "              title='Deaths across countries')\n",
    "fig.update_layout(showlegend=False)\n",
    "\n",
    "fig.show()"
   ]
  },
  {
   "cell_type": "markdown",
   "metadata": {},
   "source": [
    "# Analysing the top 10 countries "
   ]
  },
  {
   "cell_type": "markdown",
   "metadata": {},
   "source": [
    "We will analyse 10 countries with the highest confirmed case"
   ]
  },
  {
   "cell_type": "code",
   "execution_count": null,
   "metadata": {
    "_kg_hide-input": true
   },
   "outputs": [],
   "source": [
    "top_ten=top_10(confirmed_tree)"
   ]
  },
  {
   "cell_type": "code",
   "execution_count": null,
   "metadata": {
    "_kg_hide-input": true
   },
   "outputs": [],
   "source": [
    "def stacked_line_subplots(confirmed,death,recovered,countries):\n",
    "    subplot_title=[]\n",
    "    for i in countries:\n",
    "        subplot_title.append('Cases in {}'.format(i))\n",
    "    subplot_title=tuple(subplot_title)\n",
    "    fig = make_subplots(rows=len(countries), cols=1,subplot_titles=subplot_title)\n",
    "    #countries=['India','US','Yemen','Angola']\n",
    "    dates=confirmed.columns\n",
    "    dates=np.delete(dates,[0,2,3])\n",
    "    dfs=[confirmed,death,recovered]\n",
    "    row=1\n",
    "    for i in range(len(countries)):\n",
    "        value=[]\n",
    "        for j in dfs:\n",
    "            temp=j.loc[j['Country/Region']==countries[i]].values\n",
    "            temp=np.delete(temp,[0,1,2,3])\n",
    "            value.append(temp)\n",
    "        if(i==0):\n",
    "            fig.append_trace(go.Scatter(x=dates,y=value[1],mode='lines',name='Death',\n",
    "                         line_color='red',stackgroup='covid',legendgroup=\"group1\"),row=row,col=1)\n",
    "            fig.append_trace(go.Scatter(x=dates,y=value[2],mode='lines',name='Recovered',\n",
    "                         line_color='green',stackgroup='covid',legendgroup=\"group2\"),row=row,col=1)\n",
    "            fig.append_trace(go.Scatter(x=dates,y=value[0],mode='lines',name='Confirmed',\n",
    "                         line_color='blue',stackgroup='covid',legendgroup=\"group3\"),row=row,col=1)\n",
    "        else:\n",
    "            fig.append_trace(go.Scatter(x=dates,y=value[1],mode='lines',name='Death',\n",
    "                         line_color='red',stackgroup='covid', showlegend=False,\n",
    "                                        legendgroup=\"group1\"),row=row,col=1)\n",
    "            fig.append_trace(go.Scatter(x=dates,y=value[2],mode='lines',name='Recovered',\n",
    "                         line_color='green',stackgroup='covid', showlegend=False,\n",
    "                                       legendgroup=\"group2\"),row=row,col=1)\n",
    "            fig.append_trace(go.Scatter(x=dates,y=value[0],mode='lines',name='Confirmed',\n",
    "                         line_color='blue',stackgroup='covid', showlegend=False,\n",
    "                                       legendgroup=\"group3\"),row=row,col=1)\n",
    "            \n",
    "\n",
    "        row+=1\n",
    "        \n",
    "        fig.update_layout(height=2000, width=800,\n",
    "                  title_text=\"Cases across the top 10 countries\")\n",
    "            \n",
    "    fig.show()\n",
    "    "
   ]
  },
  {
   "cell_type": "markdown",
   "metadata": {},
   "source": [
    "This stacked line graph in a way shows the ratio of the cases in a country. The blue area in way indicates the active cases(when both red and green areas are present), green indicates recovered and red indicates the deaths"
   ]
  },
  {
   "cell_type": "code",
   "execution_count": null,
   "metadata": {
    "_kg_hide-input": true
   },
   "outputs": [],
   "source": [
    "stacked_line_subplots(confirmed,death,recovered,top_ten)"
   ]
  },
  {
   "cell_type": "markdown",
   "metadata": {},
   "source": [
    "# Visuals on the World Map"
   ]
  },
  {
   "cell_type": "code",
   "execution_count": null,
   "metadata": {
    "_kg_hide-input": true
   },
   "outputs": [],
   "source": [
    "def world_map(df,title,color):\n",
    "    dates=df.columns\n",
    "    dates=np.delete(dates,[0,2,3])\n",
    "    country=df['Country/Region']\n",
    "    lat=df['Lat']\n",
    "    long=df['Long']\n",
    "    transformed=pd.melt(df,id_vars=['Province/State','Country/Region','Lat','Long'],\n",
    "                   var_name=\"Date\", value_name=\"Value\")\n",
    "    fig = px.scatter_geo(transformed, lat=\"Lat\",lon=\"Long\", color=\"Value\",\n",
    "                     hover_name=\"Country/Region\", size=transformed[\"Value\"],\n",
    "                     animation_frame=\"Date\",\n",
    "                     projection=\"natural earth\",title=title,\n",
    "                     color_continuous_scale=color)\n",
    "    fig.show()"
   ]
  },
  {
   "cell_type": "code",
   "execution_count": null,
   "metadata": {
    "_kg_hide-input": true
   },
   "outputs": [],
   "source": [
    "world_map(confirmed,'Confirmed cases with time series','Jet')"
   ]
  },
  {
   "cell_type": "code",
   "execution_count": null,
   "metadata": {
    "_kg_hide-input": true,
    "scrolled": true
   },
   "outputs": [],
   "source": [
    "world_map(recovered,'Recovered cases with time series','YlGn')"
   ]
  },
  {
   "cell_type": "code",
   "execution_count": null,
   "metadata": {
    "_kg_hide-input": true
   },
   "outputs": [],
   "source": [
    "world_map(death,'Death Cases with time series','Burg')"
   ]
  },
  {
   "cell_type": "markdown",
   "metadata": {},
   "source": [
    "# Weekly analysis on case growth"
   ]
  },
  {
   "cell_type": "markdown",
   "metadata": {},
   "source": [
    "The function weekly_trend() mainly creates a new column named week. This column indicates the week \n",
    "number of a particular day. For this, the dates have been converted to days since the first reported day. The function will return the a dataframe of one particular week"
   ]
  },
  {
   "cell_type": "code",
   "execution_count": null,
   "metadata": {
    "_kg_hide-input": true
   },
   "outputs": [],
   "source": [
    "from datetime import date\n",
    "def weekly_trend(df,number):\n",
    "    c=rate(df)\n",
    "    date_values=c['Date'].values\n",
    "    first_date=date_values[0].split('/')\n",
    "    first=list(map(int, first_date))\n",
    "    for i in range(len(date_values)):\n",
    "        random=date_values[i].split('/')\n",
    "        random=list(map(int, random))\n",
    "        delta=date(2020,random[0],random[1])-date(2020,first[0],first[1])\n",
    "        date_values[i]=delta.days\n",
    "    c['Date']=date_values\n",
    "    c['Weeks']=c['Date']//7\n",
    "    confirmed_week=c.loc[c['Weeks']==number]\n",
    "    confirmed_week=confirmed_week.sort_values(by='Value',ascending=False)    \n",
    "    return confirmed_week\n",
    "    \n"
   ]
  },
  {
   "cell_type": "markdown",
   "metadata": {},
   "source": [
    "The function top_3_trends returns the top 3 countries. These are the countries which have the highest growth in the week"
   ]
  },
  {
   "cell_type": "code",
   "execution_count": null,
   "metadata": {
    "_kg_hide-input": true
   },
   "outputs": [],
   "source": [
    "def top_3_trends(week,week_number):\n",
    "    last_day=week.loc[week['Date']==((week_number*7)+6)]\n",
    "    first_day=week.loc[week['Date']==(week_number*7)]\n",
    "    first_day_values=first_day['Value'].values\n",
    "    last_day['Value']=last_day['Value']-first_day_values\n",
    "    last_day=last_day.sort_values(by='Value',ascending=False)\n",
    "    countries=last_day['Country/Region'].unique()[:3]\n",
    "    return countries\n",
    "    "
   ]
  },
  {
   "cell_type": "markdown",
   "metadata": {},
   "source": [
    "This function plots the top 3 countries in a subplot"
   ]
  },
  {
   "cell_type": "code",
   "execution_count": null,
   "metadata": {
    "_kg_hide-input": true
   },
   "outputs": [],
   "source": [
    "def top_3(week,week_number,subject):\n",
    "    top_3=top_3_trends(week,week_number)\n",
    "    week=week.sort_values(by='Date',ascending=True)\n",
    "    \n",
    "    subplot_title=[]\n",
    "    for i in top_3:\n",
    "        subplot_title.append( '{}'.format(i))\n",
    "    subplot_title=tuple(subplot_title)\n",
    "    fig = make_subplots(rows=1, cols=3,subplot_titles=subplot_title)\n",
    "    \n",
    "    col=1\n",
    "    for i in range(0,3):\n",
    "        temp=week.loc[week['Country/Region']==top_3[i]]\n",
    "        temp['Value']-=temp.iloc[0,5]\n",
    "        fig.append_trace(go.Scatter(x=temp['Date'],y=temp['Value'],mode='lines',showlegend=False\n",
    "                                    ),col=col,row=1)\n",
    "        \n",
    "        col+=1\n",
    "    \n",
    "    fig.update_layout(title_text=\"Week {} trends of {} in top 3 countries\".format(week_number,subject))\n",
    "            \n",
    "    fig.show()\n",
    "    \n",
    "    "
   ]
  },
  {
   "cell_type": "code",
   "execution_count": null,
   "metadata": {
    "_kg_hide-input": true
   },
   "outputs": [],
   "source": [
    "for i in range(1,22):\n",
    "    week=weekly_trend(confirmed,i)\n",
    "    top_3(week,i,'Confirmed Cases')\n",
    "#The same can be done for Recovered and death cases, but the the kernel becomes to long and redundant"
   ]
  }
 ],
 "metadata": {
  "kernelspec": {
   "display_name": "Python 3",
   "language": "python",
   "name": "python3"
  },
  "language_info": {
   "codemirror_mode": {
    "name": "ipython",
    "version": 3
   },
   "file_extension": ".py",
   "mimetype": "text/x-python",
   "name": "python",
   "nbconvert_exporter": "python",
   "pygments_lexer": "ipython3",
   "version": "3.7.6"
  }
 },
 "nbformat": 4,
 "nbformat_minor": 4
}
